{
 "cells": [
  {
   "cell_type": "code",
   "execution_count": 3,
   "metadata": {},
   "outputs": [],
   "source": [
    "from sklearn import linear_model\n",
    "import pandas as pd"
   ]
  },
  {
   "cell_type": "markdown",
   "metadata": {},
   "source": [
    "The first thing in this sklearn project is regression. First we need a dataset to train the models on. The goal of this project is to classify if I will like a movie or not so I can save time selecting movies."
   ]
  },
  {
   "cell_type": "markdown",
   "metadata": {},
   "source": [
    "I will have to clean some of the data as some of the columns are irrellivant to my enjoymnet of a film."
   ]
  },
  {
   "cell_type": "code",
   "execution_count": 24,
   "metadata": {},
   "outputs": [
    {
     "name": "stdout",
     "output_type": "stream",
     "text": [
      "Total Unique Keywords: 19956\n",
      "['monster vs monster', 'renegade', 'saboteur', 'le carousel du louvre paris', 'bad father-in-law', 'alternative healing center', 'nuclear submarine', 'hick', 'baltic', 'ulcer']\n"
     ]
    }
   ],
   "source": [
    "import ast  # To safely evaluate string representations of lists\n",
    "\n",
    "# Load the keywords dataset\n",
    "keywords_df = pd.read_csv('movie-data/archive/keywords.csv')\n",
    "\n",
    "# Function to extract keyword names\n",
    "def extract_keywords(keyword_str):\n",
    "    try:\n",
    "        keyword_list = ast.literal_eval(keyword_str)  # Convert string to list of dicts\n",
    "        return [keyword['name'] for keyword in keyword_list]  # Extract 'name' field\n",
    "    except (ValueError, SyntaxError):\n",
    "        return []  # Return empty list if parsing fails\n",
    "\n",
    "# Apply extraction function\n",
    "keywords_df['keywords'] = keywords_df['keywords'].apply(extract_keywords)\n",
    "\n",
    "# Flatten the list of keywords and get unique values\n",
    "unique_keywords = set([keyword for sublist in keywords_df['keywords'] for keyword in sublist])\n",
    "\n",
    "# Print total count of unique keywords and some sample keywords\n",
    "print(f\"Total Unique Keywords: {len(unique_keywords)}\")\n",
    "print(list(unique_keywords)[:10])  # Print sample of 10 unique keywords\n"
   ]
  },
  {
   "cell_type": "code",
   "execution_count": 23,
   "metadata": {},
   "outputs": [
    {
     "name": "stdout",
     "output_type": "stream",
     "text": [
      "      id                                             genres  \\\n",
      "0    862  [{'id': 16, 'name': 'Animation'}, {'id': 35, '...   \n",
      "1   8844  [{'id': 12, 'name': 'Adventure'}, {'id': 14, '...   \n",
      "2  15602  [{'id': 10749, 'name': 'Romance'}, {'id': 35, ...   \n",
      "3  31357  [{'id': 35, 'name': 'Comedy'}, {'id': 18, 'nam...   \n",
      "4  11862                     [{'id': 35, 'name': 'Comedy'}]   \n",
      "\n",
      "                original_title  vote_average  vote_count  \\\n",
      "0                    Toy Story           7.7      5415.0   \n",
      "1                      Jumanji           6.9      2413.0   \n",
      "2             Grumpier Old Men           6.5        92.0   \n",
      "3            Waiting to Exhale           6.1        34.0   \n",
      "4  Father of the Bride Part II           5.7       173.0   \n",
      "\n",
      "                                            keywords  \n",
      "0  [{'id': 931, 'name': 'jealousy'}, {'id': 4290,...  \n",
      "1  [{'id': 10090, 'name': 'board game'}, {'id': 1...  \n",
      "2  [{'id': 1495, 'name': 'fishing'}, {'id': 12392...  \n",
      "3  [{'id': 818, 'name': 'based on novel'}, {'id':...  \n",
      "4  [{'id': 1009, 'name': 'baby'}, {'id': 1599, 'n...  \n"
     ]
    }
   ],
   "source": [
    "# Load CSVs\n",
    "meta_data_df = pd.read_csv('movie-data/archive/movies_metadata.csv', low_memory=False)\n",
    "keywords_df = pd.read_csv('movie-data/archive/keywords.csv')\n",
    "\n",
    "# Convert 'id' column to numeric\n",
    "meta_data_df['id'] = pd.to_numeric(meta_data_df['id'], errors='coerce')\n",
    "keywords_df['id'] = pd.to_numeric(keywords_df['id'], errors='coerce')\n",
    "\n",
    "# Drop rows with NaN IDs\n",
    "meta_data_df = meta_data_df.dropna(subset=['id'])\n",
    "keywords_df = keywords_df.dropna(subset=['id'])\n",
    "\n",
    "# Convert 'id' to integer (if needed)\n",
    "meta_data_df['id'] = meta_data_df['id'].astype(int)\n",
    "keywords_df['id'] = keywords_df['id'].astype(int)\n",
    "\n",
    "# Select necessary columns\n",
    "df = meta_data_df[['id', 'genres', 'original_title', 'vote_average', 'vote_count']]\n",
    "\n",
    "# Merge datasets on 'id'\n",
    "merged_df = pd.merge(df, keywords_df, on='id')\n",
    "\n",
    "# Print first few rows\n",
    "print(merged_df.head())\n"
   ]
  }
 ],
 "metadata": {
  "kernelspec": {
   "display_name": ".venv",
   "language": "python",
   "name": "python3"
  },
  "language_info": {
   "codemirror_mode": {
    "name": "ipython",
    "version": 3
   },
   "file_extension": ".py",
   "mimetype": "text/x-python",
   "name": "python",
   "nbconvert_exporter": "python",
   "pygments_lexer": "ipython3",
   "version": "3.13.2"
  }
 },
 "nbformat": 4,
 "nbformat_minor": 2
}
